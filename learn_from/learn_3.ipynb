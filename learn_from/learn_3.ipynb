{
 "cells": [
  {
   "cell_type": "code",
   "execution_count": null,
   "metadata": {},
   "outputs": [],
   "source": [
    "import torch\n",
    "import tiktoken\n",
    "import matplotlib\n",
    "from torch import nn"
   ]
  },
  {
   "cell_type": "code",
   "execution_count": null,
   "metadata": {},
   "outputs": [],
   "source": [
    "CFG = {\n",
    "    'vocab_size':50257,\n",
    "    'context_length':1024,\n",
    "    'emb_dim':768,\n",
    "    'layer_num':12,\n",
    "    'head_num':12,\n",
    "    'drop_rate':0.1,\n",
    "    'bias':False,\n",
    "}"
   ]
  },
  {
   "cell_type": "code",
   "execution_count": null,
   "metadata": {},
   "outputs": [],
   "source": [
    "class DumpLayerNorm(nn.Module):\n",
    "    def __init__(self, normalized_shape, eps=1e-05) -> None:\n",
    "        super().__init__()\n",
    "    \n",
    "    def forward(self, x):\n",
    "        return x\n",
    "    \n",
    "class DumpTransformerBlock(nn.Module):\n",
    "    def __init__(self, *args, **kwargs) -> None:\n",
    "        super().__init__()\n",
    "\n",
    "    def forward(self, x):\n",
    "        return x\n",
    "    \n",
    "\n",
    "class DumpGptModel(nn.Module):\n",
    "    def __init__(self, cfg) -> None:\n",
    "        super().__init__()\n",
    "\n",
    "        self.emb_tok = nn.Embedding(cfg['vocab_size'], cfg['emb_dim'])\n",
    "        self.emb_pos = nn.Embedding(cfg['context_length'], cfg['emb_dim'])\n",
    "\n",
    "        self.drop_emb = nn.Dropout(cfg['drop_rate'])\n",
    "\n",
    "        self.tr_blocks = nn.Sequential(*[DumpTransformerBlock() for _ in range(cfg['layer_num'])])\n",
    "\n",
    "        self.fi_norm =  DumpLayerNorm(cfg['emb_dim'])\n",
    "\n",
    "        self.out_head = nn.Linear(cfg['emb_dim'],cfg['vocab_size'],bias=False)\n",
    "\n",
    "    def forward(self,x):\n",
    "        batch_len,seq_len = x.shape\n",
    "\n",
    "        tok_emb = self.emb_tok(x)\n",
    "        pos_emb = self.emb_pos(torch.arange(seq_len))\n",
    "\n",
    "        x = tok_emb + pos_emb\n",
    "        x = self.drop_emb(x)\n",
    "\n",
    "        x = self.tr_blocks(x)\n",
    "        x = self.fi_norm(x)\n",
    "\n",
    "        logits = self.out_head(x)\n",
    "\n",
    "        return logits\n"
   ]
  },
  {
   "cell_type": "code",
   "execution_count": null,
   "metadata": {},
   "outputs": [],
   "source": [
    "tokenizer = tiktoken.get_encoding('gpt2')\n",
    "\n",
    "batch = []\n",
    "\n",
    "txt1 =  \"Every effort moves you\"\n",
    "txt2 = \"Every day holds a\"\n",
    "\n",
    "batch.append(torch.tensor(tokenizer.encode(txt1)))\n",
    "batch.append(torch.tensor(tokenizer.encode(txt2)))\n",
    "\n",
    "batch = torch.stack(batch,dim=0)\n",
    "batch"
   ]
  },
  {
   "cell_type": "code",
   "execution_count": null,
   "metadata": {},
   "outputs": [],
   "source": [
    "torch.manual_seed(123)\n",
    "\n",
    "m = DumpGptModel(CFG)\n",
    "\n",
    "m(batch)"
   ]
  },
  {
   "cell_type": "code",
   "execution_count": null,
   "metadata": {},
   "outputs": [],
   "source": [
    "torch.manual_seed(123)\n",
    "\n",
    "batch_ex = torch.rand(2,5)\n",
    "layer = nn.Sequential(nn.Linear(5,6),nn.ReLU())\n",
    "\n",
    "out = layer(batch_ex)\n",
    "\n",
    "print(out)"
   ]
  },
  {
   "cell_type": "code",
   "execution_count": null,
   "metadata": {},
   "outputs": [],
   "source": [
    "mean = out.mean(dim=-1,keepdim=True)\n",
    "var = out.var(dim=-1,keepdim=True)\n",
    "\n",
    "print(mean,var)"
   ]
  },
  {
   "cell_type": "code",
   "execution_count": null,
   "metadata": {},
   "outputs": [],
   "source": [
    "out_norm = (out-mean) / torch.sqrt(var)"
   ]
  },
  {
   "cell_type": "code",
   "execution_count": null,
   "metadata": {},
   "outputs": [],
   "source": [
    "class LayerNorm(nn.Module):\n",
    "    def __init__(self, emb_dim, eps=1e-05) -> None:\n",
    "        super().__init__()\n",
    "        self.eps = eps\n",
    "\n",
    "        self.scale = nn.Parameter(torch.ones(emb_dim))\n",
    "        self.shift = nn.Parameter(torch.zeros(emb_dim))\n",
    "\n",
    "\n",
    "    def forward(self,x):\n",
    "        mean = torch.mean(x,dim=-1,keepdim=True)\n",
    "        var = torch.var(x,dim=-1,keepdim=True,unbiased=False)\n",
    "        norm = (x-mean) / torch.sqrt(var+self.eps)\n",
    "\n",
    "        return norm * self.scale + self.shift"
   ]
  },
  {
   "cell_type": "code",
   "execution_count": null,
   "metadata": {},
   "outputs": [],
   "source": [
    "layer_norm = LayerNorm(5)\n",
    "\n",
    "out_ln = layer_norm(batch_ex)\n",
    "\n",
    "print(out_ln)\n",
    "\n",
    "mean = torch.mean(out_ln,dim=-1,keepdim=True)\n",
    "var = torch.var(out_ln,dim=-1,keepdim=True,unbiased=False)\n",
    "\n",
    "print(mean,var)"
   ]
  },
  {
   "cell_type": "code",
   "execution_count": 112,
   "metadata": {},
   "outputs": [],
   "source": [
    "class LayerGelu(nn.Module):\n",
    "    def __init__(self) -> None:\n",
    "        super().__init__()\n",
    "\n",
    "\n",
    "    def forward(self,x):\n",
    "        return 0.5 * x * (1 + torch.tanh(\n",
    "            torch.sqrt(torch.tensor(2.0 / torch.pi)) * \n",
    "            (x + 0.044715 * torch.pow(x, 3))\n",
    "        ))"
   ]
  },
  {
   "cell_type": "code",
   "execution_count": 113,
   "metadata": {},
   "outputs": [
    {
     "name": "stdout",
     "output_type": "stream",
     "text": [
      "tensor([-3.0000, -2.9394, -2.8788, -2.8182, -2.7576, -2.6970, -2.6364, -2.5758,\n",
      "        -2.5152, -2.4545, -2.3939, -2.3333, -2.2727, -2.2121, -2.1515, -2.0909,\n",
      "        -2.0303, -1.9697, -1.9091, -1.8485, -1.7879, -1.7273, -1.6667, -1.6061,\n",
      "        -1.5455, -1.4848, -1.4242, -1.3636, -1.3030, -1.2424, -1.1818, -1.1212,\n",
      "        -1.0606, -1.0000, -0.9394, -0.8788, -0.8182, -0.7576, -0.6970, -0.6364,\n",
      "        -0.5758, -0.5152, -0.4545, -0.3939, -0.3333, -0.2727, -0.2121, -0.1515,\n",
      "        -0.0909, -0.0303,  0.0303,  0.0909,  0.1515,  0.2121,  0.2727,  0.3333,\n",
      "         0.3939,  0.4545,  0.5152,  0.5758,  0.6364,  0.6970,  0.7576,  0.8182,\n",
      "         0.8788,  0.9394,  1.0000,  1.0606,  1.1212,  1.1818,  1.2424,  1.3030,\n",
      "         1.3636,  1.4242,  1.4848,  1.5455,  1.6061,  1.6667,  1.7273,  1.7879,\n",
      "         1.8485,  1.9091,  1.9697,  2.0303,  2.0909,  2.1515,  2.2121,  2.2727,\n",
      "         2.3333,  2.3939,  2.4545,  2.5152,  2.5758,  2.6364,  2.6970,  2.7576,\n",
      "         2.8182,  2.8788,  2.9394,  3.0000]) tensor([-0.0036, -0.0044, -0.0053, -0.0063, -0.0076, -0.0090, -0.0106, -0.0124,\n",
      "        -0.0145, -0.0169, -0.0196, -0.0225, -0.0259, -0.0295, -0.0336, -0.0380,\n",
      "        -0.0428, -0.0481, -0.0537, -0.0597, -0.0660, -0.0728, -0.0798, -0.0871,\n",
      "        -0.0947, -0.1024, -0.1102, -0.1180, -0.1257, -0.1332, -0.1404, -0.1472,\n",
      "        -0.1534, -0.1588, -0.1634, -0.1669, -0.1691, -0.1700, -0.1694, -0.1669,\n",
      "        -0.1626, -0.1562, -0.1476, -0.1366, -0.1232, -0.1071, -0.0882, -0.0666,\n",
      "        -0.0422, -0.0148,  0.0155,  0.0487,  0.0849,  0.1239,  0.1657,  0.2102,\n",
      "         0.2573,  0.3069,  0.3589,  0.4131,  0.4694,  0.5276,  0.5875,  0.6490,\n",
      "         0.7119,  0.7760,  0.8412,  0.9072,  0.9740,  1.0414,  1.1092,  1.1773,\n",
      "         1.2457,  1.3141,  1.3825,  1.4508,  1.5189,  1.5869,  1.6545,  1.7218,\n",
      "         1.7888,  1.8554,  1.9216,  1.9875,  2.0529,  2.1179,  2.1826,  2.2469,\n",
      "         2.3108,  2.3744,  2.4377,  2.5006,  2.5633,  2.6258,  2.6880,  2.7500,\n",
      "         2.8118,  2.8735,  2.9350,  2.9964]) tensor([0.0000, 0.0000, 0.0000, 0.0000, 0.0000, 0.0000, 0.0000, 0.0000, 0.0000,\n",
      "        0.0000, 0.0000, 0.0000, 0.0000, 0.0000, 0.0000, 0.0000, 0.0000, 0.0000,\n",
      "        0.0000, 0.0000, 0.0000, 0.0000, 0.0000, 0.0000, 0.0000, 0.0000, 0.0000,\n",
      "        0.0000, 0.0000, 0.0000, 0.0000, 0.0000, 0.0000, 0.0000, 0.0000, 0.0000,\n",
      "        0.0000, 0.0000, 0.0000, 0.0000, 0.0000, 0.0000, 0.0000, 0.0000, 0.0000,\n",
      "        0.0000, 0.0000, 0.0000, 0.0000, 0.0000, 0.0303, 0.0909, 0.1515, 0.2121,\n",
      "        0.2727, 0.3333, 0.3939, 0.4545, 0.5152, 0.5758, 0.6364, 0.6970, 0.7576,\n",
      "        0.8182, 0.8788, 0.9394, 1.0000, 1.0606, 1.1212, 1.1818, 1.2424, 1.3030,\n",
      "        1.3636, 1.4242, 1.4848, 1.5455, 1.6061, 1.6667, 1.7273, 1.7879, 1.8485,\n",
      "        1.9091, 1.9697, 2.0303, 2.0909, 2.1515, 2.2121, 2.2727, 2.3333, 2.3939,\n",
      "        2.4545, 2.5152, 2.5758, 2.6364, 2.6970, 2.7576, 2.8182, 2.8788, 2.9394,\n",
      "        3.0000])\n"
     ]
    },
    {
     "data": {
      "image/png": "[encoded data removed]",
      "text/plain": [
       "<Figure size 800x300 with 2 Axes>"
      ]
     },
     "metadata": {},
     "output_type": "display_data"
    }
   ],
   "source": [
    "import matplotlib.pyplot as plt\n",
    "\n",
    "gelu,relu = LayerGelu(),nn.ReLU()\n",
    "\n",
    "x = torch.linspace(-3,3,100)\n",
    "\n",
    "y_gelu,y_relu = gelu(x),relu(x)\n",
    "\n",
    "print(x,y_gelu,y_relu)\n",
    "\n",
    "plt.figure(figsize=(8,3))\n",
    "\n",
    "for i,(y,label) in enumerate(zip([y_gelu,y_relu],['GeLU','ReLU']),1):\n",
    "    plt.subplot(1,2,i)\n",
    "    plt.plot(x,y)\n",
    "    plt.title(f\"{label} active function\")\n",
    "    plt.xlabel('x')\n",
    "    plt.ylabel(f'{label}(x)')\n",
    "    plt.grid(True)\n",
    "\n",
    "\n",
    "plt.tight_layout()\n",
    "plt.show()"
   ]
  },
  {
   "cell_type": "code",
   "execution_count": 114,
   "metadata": {},
   "outputs": [],
   "source": [
    "class FeedForward(nn.Module):\n",
    "    def __init__(self,cfg) -> None:\n",
    "        super().__init__()\n",
    "\n",
    "        emb_dim = cfg['emb_dim']\n",
    "        self.layer = nn.Sequential(nn.Linear(emb_dim,4*emb_dim),\n",
    "                                   LayerGelu(),\n",
    "                                   nn.Linear(4*emb_dim,emb_dim),\n",
    "                                   )\n",
    "    \n",
    "    def forward(self,x):\n",
    "        return self.layer(x)"
   ]
  },
  {
   "cell_type": "code",
   "execution_count": 115,
   "metadata": {},
   "outputs": [
    {
     "name": "stdout",
     "output_type": "stream",
     "text": [
      "torch.Size([2, 1024, 768]) tensor([[[-0.1092, -0.1405,  0.0041,  ..., -0.0797, -0.1141,  0.1044],\n",
      "         [-0.0167, -0.2262,  0.0520,  ..., -0.0232, -0.0459,  0.0831],\n",
      "         [-0.0425, -0.1958, -0.0438,  ..., -0.0079, -0.1721,  0.2031],\n",
      "         ...,\n",
      "         [-0.0966, -0.0771, -0.0649,  ...,  0.0245, -0.0949,  0.0923],\n",
      "         [ 0.0549, -0.0923,  0.0464,  ...,  0.0302, -0.1289,  0.1296],\n",
      "         [-0.0553, -0.1547, -0.0645,  ...,  0.0261, -0.0724,  0.0822]],\n",
      "\n",
      "        [[-0.0424, -0.1713,  0.0281,  ...,  0.0490, -0.1166,  0.0773],\n",
      "         [ 0.0100, -0.1707, -0.0486,  ...,  0.0428, -0.0627,  0.0908],\n",
      "         [-0.0250, -0.0895,  0.0299,  ...,  0.0588, -0.1800,  0.0820],\n",
      "         ...,\n",
      "         [-0.0530, -0.1211, -0.0815,  ..., -0.0580, -0.0410,  0.0344],\n",
      "         [ 0.0432, -0.0870, -0.0848,  ...,  0.0070, -0.0698,  0.0265],\n",
      "         [ 0.0536, -0.1394, -0.0642,  ..., -0.0568,  0.0376,  0.1260]]],\n",
      "       grad_fn=<ViewBackward0>)\n"
     ]
    }
   ],
   "source": [
    "ffn = FeedForward(CFG)\n",
    "\n",
    "x = torch.rand(2,1024,768)\n",
    "\n",
    "out = ffn(x)\n",
    "\n",
    "print(out.shape\n",
    "      ,out)"
   ]
  },
  {
   "cell_type": "code",
   "execution_count": 116,
   "metadata": {},
   "outputs": [],
   "source": [
    "class ExampleNN(nn.Module):\n",
    "    def __init__(self,layer_size,use_shortcut = True):\n",
    "        super().__init__()\n",
    "\n",
    "        self.layers = nn.ModuleList(\n",
    "            [\n",
    "                nn.Sequential(nn.Linear(layer_size[i],layer_size[i+1]),nn.ReLU())\n",
    "                for i in range(len(layer_size)-1)\n",
    "            ]\n",
    "        )\n",
    "\n",
    "        self.use_shortcut = use_shortcut\n",
    "        \n",
    "    def forward(self,x):\n",
    "        for layer in self.layers:\n",
    "            layer_out = layer(x)\n",
    "            if self.use_shortcut and x.shape == layer_out.shape:\n",
    "                x = layer_out + x\n",
    "            else:\n",
    "                x = layer_out\n",
    "                \n",
    "        return x\n"
   ]
  },
  {
   "cell_type": "code",
   "execution_count": 117,
   "metadata": {},
   "outputs": [],
   "source": [
    "def print_grad(model,x):\n",
    "    output = model(x)\n",
    "    taget = torch.tensor([[0.0]])\n",
    "\n",
    "    loss = nn.MSELoss()\n",
    "    loss = loss(output,taget)\n",
    "\n",
    "    loss.backward()\n",
    "\n",
    "    for name,param in model.named_parameters():\n",
    "        if 'weight' in name:\n",
    "            # print(param.grad)\n",
    "\n",
    "            print(f\"{name} has grad mean of {param.grad.abs().mean().item()}\")"
   ]
  },
  {
   "cell_type": "code",
   "execution_count": 118,
   "metadata": {},
   "outputs": [
    {
     "name": "stdout",
     "output_type": "stream",
     "text": [
      "layers.0.0.weight has grad mean of 0.0006875665276311338\n",
      "layers.1.0.weight has grad mean of 0.0019083978841081262\n",
      "layers.2.0.weight has grad mean of 0.0038205471355468035\n",
      "layers.3.0.weight has grad mean of 0.0038610314950346947\n",
      "layers.4.0.weight has grad mean of 0.02481495402753353\n",
      "layers.0.0.weight has grad mean of 0.5557742714881897\n",
      "layers.1.0.weight has grad mean of 0.09135337918996811\n",
      "layers.2.0.weight has grad mean of 0.7913904190063477\n",
      "layers.3.0.weight has grad mean of 0.21711303293704987\n",
      "layers.4.0.weight has grad mean of 3.140749216079712\n"
     ]
    }
   ],
   "source": [
    "layer_size = [3,3,3,3,3,1]\n",
    "\n",
    "sample_input = torch.tensor([[1.,0.,-1.]])\n",
    "\n",
    "torch.manual_seed(123)\n",
    "\n",
    "model_without_sh = ExampleNN(layer_size,False)\n",
    "\n",
    "print_grad(model_without_sh,sample_input)\n",
    "\n",
    "torch.manual_seed(123)\n",
    "\n",
    "model_sh = ExampleNN(layer_size,True)\n",
    "\n",
    "print_grad(model_sh,sample_input)"
   ]
  },
  {
   "cell_type": "code",
   "execution_count": null,
   "metadata": {},
   "outputs": [],
   "source": [
    "%run learn_2.ipynb"
   ]
  },
  {
   "cell_type": "code",
   "execution_count": 119,
   "metadata": {},
   "outputs": [],
   "source": [
    "sa = MultiHeadAtt(2,6,3,2)\n",
    "\n",
    "CFG = {\n",
    "    'vocab_size':50257,\n",
    "    'context_length':1024,\n",
    "    'emb_dim':768,\n",
    "    'layer_num':12,\n",
    "    'head_num':12,\n",
    "    'drop_rate':0.1,\n",
    "    'bias':False,\n",
    "}\n",
    "\n",
    "class TransformerBlock(nn.Module):\n",
    "    def __init__(self,cfg):\n",
    "        super().__init__()\n",
    "\n",
    "        self.att = MultiHeadAtt(cfg['head_num'],\n",
    "                                cfg['context_length'],\n",
    "                                cfg['emb_dim'],\n",
    "                                cfg['emb_dim'],\n",
    "                                cfg['bias'],\n",
    "                                cfg['drop_rate'])\n",
    "        \n",
    "        self.ffn = FeedForward(cfg)\n",
    "\n",
    "        self.norm1 = LayerNorm(cfg['emb_dim'])\n",
    "        self.norm2 = LayerNorm(cfg['emb_dim'])\n",
    "\n",
    "        self.drop = nn.Dropout(cfg['drop_rate'])\n",
    "\n",
    "    def forward(self,x):\n",
    "        shortcut = x\n",
    "\n",
    "        x = self.norm1(x)\n",
    "        x = self.att(x)\n",
    "        x = self.drop(x)\n",
    "\n",
    "        x = shortcut + x\n",
    "\n",
    "        shortcut = x\n",
    "\n",
    "        x = self.norm2(x)\n",
    "        x = self.ffn(x)\n",
    "        x = self.drop(x)\n",
    "\n",
    "        x = shortcut + x\n",
    "\n",
    "        return x\n",
    "\n"
   ]
  },
  {
   "cell_type": "code",
   "execution_count": 120,
   "metadata": {},
   "outputs": [
    {
     "data": {
      "text/plain": [
       "torch.Size([2, 1024, 768])"
      ]
     },
     "execution_count": 120,
     "metadata": {},
     "output_type": "execute_result"
    }
   ],
   "source": [
    "block = TransformerBlock(CFG)\n",
    "\n",
    "x = torch.rand(2,1024,768)\n",
    "\n",
    "x = block(x)\n",
    "\n",
    "x.shape"
   ]
  },
  {
   "cell_type": "code",
   "execution_count": 130,
   "metadata": {},
   "outputs": [],
   "source": [
    "CFG = {\n",
    "    'vocab_size':50257,\n",
    "    'context_length':1024,\n",
    "    'emb_dim':768,\n",
    "    'layer_num':12,\n",
    "    'head_num':12,\n",
    "    'drop_rate':0.1,\n",
    "    'bias':False,\n",
    "}\n",
    "\n",
    "class GptModel(nn.Module):\n",
    "    def __init__(self,cfg):\n",
    "        super().__init__()\n",
    "\n",
    "        self.emb_tok = nn.Embedding(cfg['vocab_size'],cfg['emb_dim'])\n",
    "        self.emb_pos = nn.Embedding(cfg['context_length'],cfg['emb_dim'])\n",
    "        self.emb_drop = nn.Dropout(cfg['drop_rate'])\n",
    "\n",
    "        self.tr_blocks = nn.Sequential(*[TransformerBlock(cfg) for _ in range(cfg['layer_num'])])\n",
    "\n",
    "        self.fn_norm = LayerNorm(cfg['emb_dim'])\n",
    "\n",
    "        self.out_vec = nn.Linear(cfg['emb_dim'],cfg['vocab_size'],bias=False)\n",
    "\n",
    "    \n",
    "    def forward(self,x):\n",
    "        _,seq_len = x.shape\n",
    "        tok = self.emb_tok(x)\n",
    "        pos = self.emb_pos(torch.arange(seq_len,device=x.device))\n",
    "\n",
    "\n",
    "        x = tok + pos\n",
    "        x = self.emb_drop(x)\n",
    "\n",
    "        x = self.tr_blocks(x)\n",
    "\n",
    "        x = self.fn_norm(x)\n",
    "\n",
    "        return self.out_vec(x)\n",
    "        "
   ]
  },
  {
   "cell_type": "code",
   "execution_count": 125,
   "metadata": {},
   "outputs": [
    {
     "name": "stdout",
     "output_type": "stream",
     "text": [
      "tensor([[6109, 3626, 6100,  345],\n",
      "        [6109, 1110, 6622,  257]])\n",
      "torch.Size([2, 4, 768])\n",
      "tensor([[[ 3.6126e-01,  4.2225e-01, -7.1129e-02,  ...,  3.4830e-01,\n",
      "           4.6611e-01, -2.8378e-01],\n",
      "         [-1.8588e-01, -5.5515e-01, -9.3137e-01,  ...,  6.4539e-02,\n",
      "           5.7467e-01, -3.5581e-01],\n",
      "         [ 7.3162e-01,  2.1609e-02,  4.8252e-02,  ...,  9.5416e-02,\n",
      "          -4.5359e-01, -1.8281e-01],\n",
      "         [-9.6031e-01,  4.3047e-01, -1.5453e-01,  ...,  7.7895e-01,\n",
      "           4.1090e-01, -1.2484e-04]],\n",
      "\n",
      "        [[-2.5640e-01,  9.0026e-02,  3.3531e-02,  ...,  2.6592e-01,\n",
      "           4.4538e-01, -6.8056e-01],\n",
      "         [ 1.1533e-01,  4.0725e-01, -1.8094e-01,  ...,  7.8006e-01,\n",
      "           2.3187e-01,  2.2598e-01],\n",
      "         [ 1.0501e+00,  1.0653e+00, -2.5768e-01,  ...,  6.5044e-01,\n",
      "           2.9796e-01, -2.8317e-01],\n",
      "         [-1.2929e-01,  4.2385e-01,  2.5976e-01,  ...,  1.2889e+00,\n",
      "          -2.3878e-01,  8.8656e-02]]], grad_fn=<UnsafeViewBackward0>)\n",
      "torch.Size([2, 4, 50257])\n"
     ]
    }
   ],
   "source": [
    "torch.manual_seed(123)\n",
    "\n",
    "mode = GptModel(CFG)\n",
    "\n",
    "batch = []\n",
    "\n",
    "txt1 = \"Every effort moves you\"\n",
    "txt2 = \"Every day holds a\"\n",
    "\n",
    "batch.append(torch.tensor(tokenizer.encode(txt1)))\n",
    "batch.append(torch.tensor(tokenizer.encode(txt2)))\n",
    "batch = torch.stack(batch, dim=0)\n",
    "\n",
    "print(batch)\n",
    "\n",
    "out = mode(batch)\n",
    "\n",
    "print(out)\n",
    "print(out.shape)"
   ]
  },
  {
   "cell_type": "code",
   "execution_count": 126,
   "metadata": {},
   "outputs": [
    {
     "name": "stdout",
     "output_type": "stream",
     "text": [
      "163009536\n"
     ]
    }
   ],
   "source": [
    "total_params = sum(p.numel() for p in mode.parameters())\n",
    "\n",
    "print(total_params)"
   ]
  },
  {
   "cell_type": "code",
   "execution_count": 132,
   "metadata": {},
   "outputs": [],
   "source": [
    "def gen_text_simp(model,idx,max_new_token,context_size):\n",
    "    for i in range(max_new_token):\n",
    "        input_ids = idx[:,-context_size:]\n",
    "\n",
    "        with torch.no_grad():\n",
    "            out = model(input_ids)\n",
    "        \n",
    "        logits = out[:,-1,:]\n",
    "\n",
    "        prob = torch.softmax(logits,dim=-1)\n",
    "\n",
    "        idx_next = torch.argmax(prob,dim=-1,keepdim=True)\n",
    "\n",
    "        idx = torch.cat((idx,idx_next),dim=1)\n",
    "\n",
    "    return idx"
   ]
  },
  {
   "cell_type": "code",
   "execution_count": 133,
   "metadata": {},
   "outputs": [
    {
     "name": "stdout",
     "output_type": "stream",
     "text": [
      "[15496, 11, 314, 716]\n",
      "tensor([[15496,    11,   314,   716]])\n",
      "torch.Size([1, 4, 768])\n",
      "torch.Size([1, 5, 768])\n",
      "torch.Size([1, 6, 768])\n",
      "torch.Size([1, 7, 768])\n",
      "torch.Size([1, 8, 768])\n"
     ]
    },
    {
     "data": {
      "text/plain": [
       "tensor([[15496,    11,   314,   716, 27018, 24086, 47843, 30961, 26944]])"
      ]
     },
     "execution_count": 133,
     "metadata": {},
     "output_type": "execute_result"
    }
   ],
   "source": [
    "start_cn = \"Hello, I am\"\n",
    "\n",
    "encoded = tokenizer.encode(start_cn)\n",
    "\n",
    "print(encoded)\n",
    "\n",
    "idx = torch.tensor(encoded).unsqueeze(0)\n",
    "\n",
    "print(idx)\n",
    "\n",
    "out = gen_text_simp(mode,idx,5,1000)\n",
    "\n",
    "out"
   ]
  },
  {
   "cell_type": "code",
   "execution_count": 136,
   "metadata": {},
   "outputs": [
    {
     "data": {
      "text/plain": [
       "'Hello, I am Featureiman Byeswick Lap'"
      ]
     },
     "execution_count": 136,
     "metadata": {},
     "output_type": "execute_result"
    }
   ],
   "source": [
    "tokenizer.decode(out.squeeze(0).tolist())"
   ]
  }
 ],
 "metadata": {
  "kernelspec": {
   "display_name": "Python 3",
   "language": "python",
   "name": "python3"
  },
  "language_info": {
   "codemirror_mode": {
    "name": "ipython",
    "version": 3
   },
   "file_extension": ".py",
   "mimetype": "text/x-python",
   "name": "python",
   "nbconvert_exporter": "python",
   "pygments_lexer": "ipython3",
   "version": "3.11.5"
  }
 },
 "nbformat": 4,
 "nbformat_minor": 2
}
